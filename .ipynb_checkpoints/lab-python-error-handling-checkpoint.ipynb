{
 "cells": [
  {
   "cell_type": "markdown",
   "id": "25d7736c-ba17-4aff-b6bb-66eba20fbf4e",
   "metadata": {},
   "source": [
    "# Lab | Error Handling"
   ]
  },
  {
   "cell_type": "markdown",
   "id": "bc99b386-7508-47a0-bcdb-d969deaf6c8b",
   "metadata": {},
   "source": [
    "## Exercise: Error Handling for Managing Customer Orders\n",
    "\n",
    "The implementation of your code for managing customer orders assumes that the user will always enter a valid input. \n",
    "\n",
    "For example, we could modify the `initialize_inventory` function to include error handling.\n",
    "   - If the user enters an invalid quantity (e.g., a negative value or a non-numeric value), display an error message and ask them to re-enter the quantity for that product.\n",
    "   - Use a try-except block to handle the error and continue prompting the user until a valid quantity is entered.\n",
    "\n",
    "```python\n",
    "# Step 1: Define the function for initializing the inventory with error handling\n",
    "def initialize_inventory(products):\n",
    "    inventory = {}\n",
    "    for product in products:\n",
    "        valid_quantity = False\n",
    "        while not valid_quantity:\n",
    "            try:\n",
    "                quantity = int(input(f\"Enter the quantity of {product}s available: \"))\n",
    "                if quantity < 0:\n",
    "                    raise ValueError(\"Invalid quantity! Please enter a non-negative value.\")\n",
    "                valid_quantity = True\n",
    "            except ValueError as error:\n",
    "                print(f\"Error: {error}\")\n",
    "        inventory[product] = quantity\n",
    "    return inventory\n",
    "\n",
    "# Or, in another way:\n",
    "\n",
    "def initialize_inventory(products):\n",
    "    inventory = {}\n",
    "    for product in products:\n",
    "        valid_input = False\n",
    "        while not valid_input:\n",
    "            try:\n",
    "                quantity = int(input(f\"Enter the quantity of {product}s available: \"))\n",
    "                if quantity >= 0:\n",
    "                    inventory[product] = quantity\n",
    "                    valid_input = True\n",
    "                else:\n",
    "                    print(\"Quantity cannot be negative. Please enter a valid quantity.\")\n",
    "            except ValueError:\n",
    "                print(\"Invalid input. Please enter a valid quantity.\")\n",
    "    return inventory\n",
    "```\n",
    "\n",
    "Let's enhance your code by implementing error handling to handle invalid inputs.\n",
    "\n",
    "Follow the steps below to complete the exercise:\n",
    "\n",
    "2. Modify the `calculate_total_price` function to include error handling.\n",
    "   - If the user enters an invalid price (e.g., a negative value or a non-numeric value), display an error message and ask them to re-enter the price for that product.\n",
    "   - Use a try-except block to handle the error and continue prompting the user until a valid price is entered.\n",
    "\n",
    "3. Modify the `get_customer_orders` function to include error handling.\n",
    "   - If the user enters an invalid number of orders (e.g., a negative value or a non-numeric value), display an error message and ask them to re-enter the number of orders.\n",
    "   - If the user enters an invalid product name (e.g., a product name that is not in the inventory), or that doesn't have stock available, display an error message and ask them to re-enter the product name. *Hint: you will need to pass inventory as a parameter*\n",
    "   - Use a try-except block to handle the error and continue prompting the user until a valid product name is entered.\n",
    "\n",
    "4. Test your code by running the program and deliberately entering invalid quantities and product names. Make sure the error handling mechanism works as expected.\n"
   ]
  },
  {
   "cell_type": "markdown",
   "id": "1ba12b61",
   "metadata": {},
   "source": [
    "### Answers"
   ]
  },
  {
   "cell_type": "code",
   "execution_count": 28,
   "id": "56de5d05",
   "metadata": {},
   "outputs": [],
   "source": [
    "\"\"\"\n",
    "First at all, we give values to variables that we are going to use in the functions\n",
    "\n",
    "\"\"\"\n",
    "\n",
    "products = [\"t-shirt\", \"mug\", \"hat\", \"book\", \"keychain\"]\n",
    "inventory = {}\n",
    "customer_order = {}\n",
    "item_prices = {}\n",
    "total_price = 0"
   ]
  },
  {
   "cell_type": "code",
   "execution_count": 29,
   "id": "118802d7",
   "metadata": {},
   "outputs": [],
   "source": [
    "#Answer to 1\n",
    "\n",
    "\"\"\"\n",
    "We use try-except inside while loop's in for loop that iterate for obtain inventory library\n",
    "\n",
    "\"\"\"\n",
    "\n",
    "def initialize_inventory(products):\n",
    "    inventory = {}\n",
    "        \n",
    "    for product in products:\n",
    "        valid_input = False\n",
    "        while not valid_input:\n",
    "            try:\n",
    "                inventory[product] = int(input(f\"How many {product} are availables: \"))\n",
    "                if inventory[product] >= 0:\n",
    "                    valid_input = True\n",
    "                else:\n",
    "                    print(f\"Numbers can't be negative. Please enter a valid quantity\")\n",
    "            except ValueError:\n",
    "                        print(\"The input is not valid. Please enter a valid quantity\")\n",
    "    return inventory"
   ]
  },
  {
   "cell_type": "code",
   "execution_count": 30,
   "id": "8977ff1b",
   "metadata": {
    "scrolled": true
   },
   "outputs": [],
   "source": [
    "#Answer to 3. \n",
    "\n",
    "\"\"\"\n",
    "\n",
    "I have answered 3 before 2 because the order of getting the customer order before the total price seems more logical to me.\n",
    "We use try-except inside while loops for error handling. First for the initial input to validate it with while true loop and the\n",
    "second one a while not True loop that changes to True True if is a valid input.\n",
    "\n",
    "\"\"\"\n",
    "\n",
    "def customer_orders(products):\n",
    "    customer_order = {}\n",
    "    \n",
    "    while True:\n",
    "        try:\n",
    "            maximum = int(input(\"How many items do you want to order?: \"))\n",
    "            if maximum <= 0:\n",
    "                print(f\"{maximum} is an invalid input\")                           \n",
    "            else:\n",
    "                break\n",
    "        except ValueError:\n",
    "                    print(\"The input is not valid.\")\n",
    "    \n",
    "    for i in range(maximum):\n",
    "        valid_input = False\n",
    "        while not valid_input:\n",
    "            try:\n",
    "                custom = input(\"Write what you want from the list: \").lower()\n",
    "                if custom in products:\n",
    "                    customer_order[custom] = 1    \n",
    "                    valid_input = True\n",
    "                else:\n",
    "                    print(f\"{custom} is not in our catalog\")\n",
    "            except ValueError:\n",
    "                          print(\"The input is not valid. Please enter a valid product\")\n",
    "    return customer_order"
   ]
  },
  {
   "cell_type": "code",
   "execution_count": 35,
   "id": "20f5c121",
   "metadata": {},
   "outputs": [],
   "source": [
    "#Answer to 2\n",
    "\n",
    "\"\"\"\n",
    "\n",
    "We use a try-except inside while true loop to validate the input\n",
    "\n",
    "\"\"\"\n",
    "\n",
    "def calculate_total_price(customer_o):\n",
    "    item_prices = {}\n",
    "    \n",
    "    for product in customer_o.keys():\n",
    "        while True:\n",
    "            try:\n",
    "                price = float(input(f\"Enter a price for {product}: \"))\n",
    "                if price >= 0:\n",
    "                    item_prices[product] = price\n",
    "                    break\n",
    "                elif price < 0:\n",
    "                    print(\"Your input can't be a negative number\")\n",
    "            except ValueError:\n",
    "                print(f\"Invalid input. Please enter a price: \")\n",
    "    \n",
    "    total_price = sum(item_prices.values())\n",
    "            \n",
    "    return item_prices, total_price   "
   ]
  },
  {
   "cell_type": "code",
   "execution_count": 36,
   "id": "4ec53bd2",
   "metadata": {
    "scrolled": true
   },
   "outputs": [
    {
     "name": "stdout",
     "output_type": "stream",
     "text": [
      "How many t-shirt are availables: 22\n",
      "How many mug are availables: 2\n",
      "How many hat are availables: 2\n",
      "How many book are availables: 2\n",
      "How many keychain are availables: 2\n",
      "How many items do you want to order?: 2\n",
      "Write what you want from the list: 2\n",
      "2 is not in our catalog\n",
      "Write what you want from the list: 2\n",
      "2 is not in our catalog\n",
      "Write what you want from the list: mug\n",
      "Write what you want from the list: t-shir\n",
      "t-shir is not in our catalog\n",
      "Write what you want from the list: t-shirt\n",
      "Enter a price for t-shirt: 2.5\n",
      "Enter a price for mug: dos\n",
      "Invalid input. Please enter a price: \n",
      "Enter a price for mug: 2.6\n"
     ]
    },
    {
     "data": {
      "text/plain": [
       "({'t-shirt': 2.5, 'mug': 2.6}, 5.1)"
      ]
     },
     "execution_count": 36,
     "metadata": {},
     "output_type": "execute_result"
    }
   ],
   "source": [
    "#Answer to 4\n",
    "\n",
    "\"\"\"\n",
    "\n",
    "Last step is just run it all codes\n",
    "\n",
    "\"\"\"\n",
    "\n",
    "initialize_inventory(products)\n",
    "customer_orders(products)\n",
    "calculate_total_price(customer_o)"
   ]
  }
 ],
 "metadata": {
  "kernelspec": {
   "display_name": "Python 3 (ipykernel)",
   "language": "python",
   "name": "python3"
  },
  "language_info": {
   "codemirror_mode": {
    "name": "ipython",
    "version": 3
   },
   "file_extension": ".py",
   "mimetype": "text/x-python",
   "name": "python",
   "nbconvert_exporter": "python",
   "pygments_lexer": "ipython3",
   "version": "3.11.5"
  }
 },
 "nbformat": 4,
 "nbformat_minor": 5
}
